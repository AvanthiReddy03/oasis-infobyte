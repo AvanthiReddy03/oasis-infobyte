{
 "cells": [
  {
   "cell_type": "code",
   "execution_count": 1,
   "id": "6ded7c8b",
   "metadata": {},
   "outputs": [
    {
     "name": "stdout",
     "output_type": "stream",
     "text": [
      "\n",
      "\tEnter the desired password length: 5\n",
      "\n",
      "\tInclude letters (y/n)? y\n",
      "\n",
      "\tInclude numbers (y/n)? y\n",
      "\n",
      "\tInclude symbols (y/n)? y\n",
      "\n",
      "\tGenerated Password: *A$wf\n"
     ]
    }
   ],
   "source": [
    "# Task 2\n",
    "\n",
    "\n",
    "import random\n",
    "import string\n",
    "\n",
    "def generate_password(length, use_letters=True, use_numbers=True, use_symbols=True):\n",
    "    characters = \"\"   \n",
    "    if use_letters:\n",
    "        characters += string.ascii_letters\n",
    "    if use_numbers:\n",
    "        characters += string.digits\n",
    "    if use_symbols:\n",
    "        characters += string.punctuation\n",
    "\n",
    "    if not characters:\n",
    "        print(\"Error: You must select at least one character set.\")\n",
    "        return None\n",
    "\n",
    "    password = ''.join(random.choice(characters) for _ in range(length))\n",
    "    return password\n",
    "\n",
    "def main():\n",
    "    try:\n",
    "        length = int(input(\"\\n\\tEnter the desired password length: \"))\n",
    "        use_letters = input(\"\\n\\tInclude letters (y/n)? \").strip().lower() == 'y'\n",
    "        use_numbers = input(\"\\n\\tInclude numbers (y/n)? \").strip().lower() == 'y'\n",
    "        use_symbols = input(\"\\n\\tInclude symbols (y/n)? \").strip().lower() == 'y'\n",
    "    except ValueError:\n",
    "        print(\"\\n\\tInvalid input. Please enter a numeric password length.\")\n",
    "        return\n",
    "\n",
    "    password = generate_password(length, use_letters, use_numbers, use_symbols)\n",
    "    \n",
    "    if password:\n",
    "        print(\"\\n\\tGenerated Password:\", password)\n",
    "\n",
    "if __name__ == \"__main__\":\n",
    "    main()\n"
   ]
  },
  {
   "cell_type": "code",
   "execution_count": null,
   "id": "9477d1b8",
   "metadata": {},
   "outputs": [],
   "source": []
  }
 ],
 "metadata": {
  "kernelspec": {
   "display_name": "Python 3 (ipykernel)",
   "language": "python",
   "name": "python3"
  },
  "language_info": {
   "codemirror_mode": {
    "name": "ipython",
    "version": 3
   },
   "file_extension": ".py",
   "mimetype": "text/x-python",
   "name": "python",
   "nbconvert_exporter": "python",
   "pygments_lexer": "ipython3",
   "version": "3.9.12"
  }
 },
 "nbformat": 4,
 "nbformat_minor": 5
}

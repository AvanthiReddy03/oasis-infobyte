{
 "cells": [
  {
   "cell_type": "code",
   "execution_count": 6,
   "id": "a07910d1",
   "metadata": {},
   "outputs": [
    {
     "name": "stdout",
     "output_type": "stream",
     "text": [
      "\n",
      "\tEnter your weight in kilograms: 90.8\n",
      "\n",
      "\tEnter your height in meters: 2.49\n",
      "\n",
      "\tYour BMI is: 14.64\n",
      "\n",
      "\tCategory: Underweight\n"
     ]
    }
   ],
   "source": [
    "# Task 1\n",
    "\n",
    "\n",
    "def calculate_bmi(weight, height):\n",
    "    bmi = weight / (height ** 2)\n",
    "    return bmi\n",
    "\n",
    "def classify_bmi(bmi):\n",
    "    categories = {\"Underweight\": (0, 18.5),\"Normal\": (18.5, 24.9),\"Overweight\": (25, 29.9),\"Obese\": (30, 100)}\n",
    "    for category, (lower, upper) in categories.items():\n",
    "        if lower <= bmi <= upper:\n",
    "            return category\n",
    "\n",
    "try:\n",
    "    weight = float(input(\"\\n\\tEnter your weight in kilograms: \"))\n",
    "    height = float(input(\"\\n\\tEnter your height in meters: \"))\n",
    "except ValueError:\n",
    "    print(\"\\n\\tInvalid input. Please enter numeric values for weight and height.\")\n",
    "else:\n",
    "    bmi = calculate_bmi(weight, height)\n",
    "    category = classify_bmi(bmi)\n",
    "    \n",
    "    print(f\"\\n\\tYour BMI is: {bmi:.2f}\")\n",
    "    print(f\"\\n\\tCategory: {category}\")"
   ]
  },
  {
   "cell_type": "code",
   "execution_count": null,
   "id": "c7709c5c",
   "metadata": {},
   "outputs": [],
   "source": []
  }
 ],
 "metadata": {
  "kernelspec": {
   "display_name": "Python 3 (ipykernel)",
   "language": "python",
   "name": "python3"
  },
  "language_info": {
   "codemirror_mode": {
    "name": "ipython",
    "version": 3
   },
   "file_extension": ".py",
   "mimetype": "text/x-python",
   "name": "python",
   "nbconvert_exporter": "python",
   "pygments_lexer": "ipython3",
   "version": "3.9.12"
  }
 },
 "nbformat": 4,
 "nbformat_minor": 5
}

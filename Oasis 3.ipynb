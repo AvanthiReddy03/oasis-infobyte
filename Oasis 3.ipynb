{
 "cells": [
  {
   "cell_type": "code",
   "execution_count": 1,
   "id": "7d3f2960",
   "metadata": {},
   "outputs": [
    {
     "name": "stdout",
     "output_type": "stream",
     "text": [
      "\n",
      "\tEnter a city or ZIP code: 400001\n",
      "\n",
      "\tWeather in 400001:\n",
      "\n",
      "\tTemperature: 31.84°C\n",
      "\n",
      "\tHumidity: 61%\n",
      "\n",
      "\tConditions: Overcast clouds\n"
     ]
    }
   ],
   "source": [
    "# Task 3:\n",
    "\n",
    "\n",
    "import requests\n",
    "\n",
    "def get_weather(api_key, location):\n",
    "    base_url = \"http://api.openweathermap.org/data/2.5/weather\"\n",
    "    params = {\"q\": location,\"appid\": api_key,\"units\": \"metric\"}\n",
    "    response = requests.get(base_url, params=params)\n",
    "    data = response.json()\n",
    "\n",
    "    if response.status_code == 200:\n",
    "        main = data[\"main\"]\n",
    "        weather = data[\"weather\"][0]\n",
    "        temperature = main[\"temp\"]\n",
    "        humidity = main[\"humidity\"]\n",
    "        description = weather[\"description\"]\n",
    "\n",
    "        print(f\"\\n\\tWeather in {location}:\")\n",
    "        print(f\"\\n\\tTemperature: {temperature}°C\")\n",
    "        print(f\"\\n\\tHumidity: {humidity}%\")\n",
    "        print(f\"\\n\\tConditions: {description.capitalize()}\")\n",
    "    else:\n",
    "        print(f\"\\n\\tError: Unable to fetch weather data for {location}\")\n",
    "\n",
    "def main():\n",
    "    api_key = \"a8f9b2cf1176ee6aced16a60fd9b0774\"  # Replace with your OpenWeatherMap API key\n",
    "    location = input(\"\\n\\tEnter a city or ZIP code: \")\n",
    "    get_weather(api_key, location)\n",
    "\n",
    "if __name__ == \"__main__\":\n",
    "    main()\n"
   ]
  },
  {
   "cell_type": "code",
   "execution_count": null,
   "id": "91c7c9bf",
   "metadata": {},
   "outputs": [],
   "source": []
  }
 ],
 "metadata": {
  "kernelspec": {
   "display_name": "Python 3 (ipykernel)",
   "language": "python",
   "name": "python3"
  },
  "language_info": {
   "codemirror_mode": {
    "name": "ipython",
    "version": 3
   },
   "file_extension": ".py",
   "mimetype": "text/x-python",
   "name": "python",
   "nbconvert_exporter": "python",
   "pygments_lexer": "ipython3",
   "version": "3.9.12"
  }
 },
 "nbformat": 4,
 "nbformat_minor": 5
}
